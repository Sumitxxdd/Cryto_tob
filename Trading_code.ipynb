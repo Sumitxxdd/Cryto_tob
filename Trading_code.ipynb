{
 "cells": [
  {
   "cell_type": "code",
   "execution_count": 3,
   "metadata": {},
   "outputs": [],
   "source": [
    "import sqlalchemy\n",
    "import pandas\n",
    "from binance.client import Client"
   ]
  },
  {
   "cell_type": "code",
   "execution_count": null,
   "metadata": {},
   "outputs": [],
   "source": [
    "Client = Client(api_key,api_secret)"
   ]
  },
  {
   "cell_type": "code",
   "execution_count": null,
   "metadata": {},
   "outputs": [],
   "source": [
    "engine = sqlalchemy.create_engine('sqlite:///BTCUSDTstream.db')"
   ]
  },
  {
   "cell_type": "code",
   "execution_count": null,
   "metadata": {},
   "outputs": [],
   "source": [
    "df = pd.read_sql('BTCUSDT',engine)"
   ]
  },
  {
   "cell_type": "code",
   "execution_count": null,
   "metadata": {},
   "outputs": [],
   "source": [
    "df.Price.plot()"
   ]
  },
  {
   "cell_type": "code",
   "execution_count": null,
   "metadata": {},
   "outputs": [],
   "source": [
    "# Trendfollowing\n",
    "# ifthe crypto was rising by x% --> Buy\n",
    "# exit when the profit is above 0.15% or loss is crossing -0.15%"
   ]
  },
  {
   "cell_type": "code",
   "execution_count": null,
   "metadata": {},
   "outputs": [],
   "source": [
    "def strategy(entry, lookback, qty, open_position=False):\n",
    "    while(True):                         #buying position\n",
    "        df=pd.read_sql('BTCUSDT',engine)\n",
    "        lookbackperiod = df.iloc[-lookback:]\n",
    "        cumret = (lookbackperiod.Price.pct_change()+1).cumprod() - 1\n",
    "        if not open_position:                     \n",
    "            if cumret[cumret.last_valid_index()] > entry:\n",
    "                order = client.create_order(symbol='BTCUSDT',\n",
    "                                            side = 'BUY',\n",
    "                                            type = 'MARKET',\n",
    "                                            quantity = qty)\n",
    "                print(order)\n",
    "                open_position = True\n",
    "                break \n",
    "    if open_position:                   #selling position\n",
    "        while True:\n",
    "            df = pd.read_sql('BTCUSDT',engine)\n",
    "            sincebuy = df.loc[df.Time > pd.to_datatime(order['transactTime'], unit = 'ms')]\n",
    "            if len(sincebuy) > 1:\n",
    "                sincebuyret = (sincebuy.Price.pct_change() +1).cumprod() -1   \n",
    "                last_entry = sincebuyret[sincebuyret.last_valid_index()]\n",
    "                if(last_entry > 0.0015 or last_entry < -0.0015):\n",
    "                    order = clientcreate_order(symbol='BTCUSDT',\n",
    "                                            side = 'SELL',\n",
    "                                            type = 'MARKET',\n",
    "                                            quantity = qty)   \n",
    "                    print(order) \n",
    "                    break                                                          "
   ]
  },
  {
   "cell_type": "code",
   "execution_count": null,
   "metadata": {},
   "outputs": [],
   "source": []
  }
 ],
 "metadata": {
  "interpreter": {
   "hash": "369f2c481f4da34e4445cda3fffd2e751bd1c4d706f27375911949ba6bb62e1c"
  },
  "kernelspec": {
   "display_name": "Python 3.10.4 64-bit",
   "language": "python",
   "name": "python3"
  },
  "language_info": {
   "codemirror_mode": {
    "name": "ipython",
    "version": 3
   },
   "file_extension": ".py",
   "mimetype": "text/x-python",
   "name": "python",
   "nbconvert_exporter": "python",
   "pygments_lexer": "ipython3",
   "version": "3.10.4"
  },
  "orig_nbformat": 4
 },
 "nbformat": 4,
 "nbformat_minor": 2
}
